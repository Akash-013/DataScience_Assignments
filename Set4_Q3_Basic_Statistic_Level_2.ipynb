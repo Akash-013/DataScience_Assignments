{
  "nbformat": 4,
  "nbformat_minor": 0,
  "metadata": {
    "colab": {
      "provenance": []
    },
    "kernelspec": {
      "name": "python3",
      "display_name": "Python 3"
    },
    "language_info": {
      "name": "python"
    }
  },
  "cells": [
    {
      "cell_type": "code",
      "execution_count": 1,
      "metadata": {
        "id": "JVBo6v086mvC"
      },
      "outputs": [],
      "source": [
        "import numpy as np\n",
        "from scipy import stats"
      ]
    },
    {
      "cell_type": "markdown",
      "source": [
        "n=100, Mean=50, Std=40"
      ],
      "metadata": {
        "id": "fSKpY8p663ou"
      }
    },
    {
      "cell_type": "code",
      "source": [
        "# z-scores at x=45; z=(x-mean)/(std/sqrt(n))\n",
        "z1=(45-50)/(40/np.sqrt(100))\n",
        "z1"
      ],
      "metadata": {
        "colab": {
          "base_uri": "https://localhost:8080/"
        },
        "id": "TI4BpR7e7HD_",
        "outputId": "6be82fc0-9a3e-4c3d-9503-b51c52ec565a"
      },
      "execution_count": 4,
      "outputs": [
        {
          "output_type": "execute_result",
          "data": {
            "text/plain": [
              "-1.25"
            ]
          },
          "metadata": {},
          "execution_count": 4
        }
      ]
    },
    {
      "cell_type": "code",
      "source": [
        "# z-scores at x=55; z=(x-mean)/(std/sqrt(n))\n",
        "z2=(55-50)/(40/np.sqrt(100))\n",
        "z2"
      ],
      "metadata": {
        "colab": {
          "base_uri": "https://localhost:8080/"
        },
        "id": "Wv3FKqFe76an",
        "outputId": "f8907e04-5913-4a49-fd1f-009d5de37752"
      },
      "execution_count": 5,
      "outputs": [
        {
          "output_type": "execute_result",
          "data": {
            "text/plain": [
              "1.25"
            ]
          },
          "metadata": {},
          "execution_count": 5
        }
      ]
    },
    {
      "cell_type": "code",
      "source": [
        "# For No investigation P(45<X<55), use z-scores = P(X<50) - P(X<45)\n",
        "P = stats.norm.cdf(z2)-stats.norm.cdf(z1)"
      ],
      "metadata": {
        "id": "4Gas9Z5F8FwA"
      },
      "execution_count": 8,
      "outputs": []
    },
    {
      "cell_type": "code",
      "source": [
        "# Therefore,  For Investigation  1 - P(45<X<55)\n",
        "P_final = 1 - P\n",
        "P_final"
      ],
      "metadata": {
        "colab": {
          "base_uri": "https://localhost:8080/"
        },
        "id": "X_JWN4Fz8VNT",
        "outputId": "faed1c66-0158-4d17-8f53-d1d9c0c85108"
      },
      "execution_count": 9,
      "outputs": [
        {
          "output_type": "execute_result",
          "data": {
            "text/plain": [
              "0.2112995473337107"
            ]
          },
          "metadata": {},
          "execution_count": 9
        }
      ]
    }
  ]
}