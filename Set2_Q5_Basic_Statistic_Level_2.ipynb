{
  "nbformat": 4,
  "nbformat_minor": 0,
  "metadata": {
    "colab": {
      "provenance": []
    },
    "kernelspec": {
      "name": "python3",
      "display_name": "Python 3"
    },
    "language_info": {
      "name": "python"
    }
  },
  "cells": [
    {
      "cell_type": "code",
      "execution_count": 1,
      "metadata": {
        "id": "mWZ-sBWBxF6g"
      },
      "outputs": [],
      "source": [
        "import numpy as np\n",
        "import pandas as pd\n",
        "from scipy import stats"
      ]
    },
    {
      "cell_type": "code",
      "source": [
        "# Mean profits from two different divisions of a company = Mean1 + Mean2\n",
        "mean = 5+7\n",
        "print('Mean Profit is Rs.', mean*45,'Million')"
      ],
      "metadata": {
        "colab": {
          "base_uri": "https://localhost:8080/"
        },
        "id": "EkwRg6yzxVN7",
        "outputId": "dc1c915d-5bfc-4e88-fb4b-c915d442d424"
      },
      "execution_count": 2,
      "outputs": [
        {
          "output_type": "stream",
          "name": "stdout",
          "text": [
            "Mean Profit is Rs. 540 Million\n"
          ]
        }
      ]
    },
    {
      "cell_type": "code",
      "source": [
        "# Standard Deviation of profits from two different divisions of a company = SD1^2 + SD2^2\n",
        "sd = np.sqrt((9)+(16))\n",
        "print('Standard Deviation is Rs.', sd*45, 'Million')"
      ],
      "metadata": {
        "colab": {
          "base_uri": "https://localhost:8080/"
        },
        "id": "vabT9PulznMz",
        "outputId": "eedba9e1-d6c9-4f43-f4af-caa4230862fd"
      },
      "execution_count": 3,
      "outputs": [
        {
          "output_type": "stream",
          "name": "stdout",
          "text": [
            "Standard Deviation is Rs. 225.0 Million\n"
          ]
        }
      ]
    },
    {
      "cell_type": "markdown",
      "source": [
        "A. Specify a Rupee range (centered on the mean) such that it contains 95% probability for the annual profit of the company."
      ],
      "metadata": {
        "id": "7kGORbAKz58-"
      }
    },
    {
      "cell_type": "code",
      "source": [
        "print('Range in Rs.',(stats.norm.interval(0.95,540,225)),\"Million\")"
      ],
      "metadata": {
        "colab": {
          "base_uri": "https://localhost:8080/"
        },
        "id": "OAUIWV1t0HY7",
        "outputId": "5dec24c7-668e-4aeb-a1c9-923a4c0d5ea0"
      },
      "execution_count": 4,
      "outputs": [
        {
          "output_type": "stream",
          "name": "stdout",
          "text": [
            "Range in Rs. (99.00810347848784, 980.9918965215122) Million\n"
          ]
        }
      ]
    },
    {
      "cell_type": "code",
      "source": [
        "# B. Specify the 5th percentile of profit (in Rupees) for the company\n",
        "# To compute 5th Percentile, we use the formula X=μ + Zσ; wherein from z table, 5 percentile = -1.645\n",
        "X= 540+(-1.645)*(225)\n",
        "print('5th percentile of profit (in Rupees) is',np.round(X,))"
      ],
      "metadata": {
        "id": "RlDDUf1t00Yr",
        "colab": {
          "base_uri": "https://localhost:8080/"
        },
        "outputId": "4e0db233-2242-49cc-b77d-f5fa4b064fe5"
      },
      "execution_count": 5,
      "outputs": [
        {
          "output_type": "stream",
          "name": "stdout",
          "text": [
            "5th percentile of profit (in Rupees) is 170.0\n"
          ]
        }
      ]
    }
  ]
}