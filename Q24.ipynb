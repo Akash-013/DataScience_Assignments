{
  "nbformat": 4,
  "nbformat_minor": 0,
  "metadata": {
    "colab": {
      "provenance": []
    },
    "kernelspec": {
      "name": "python3",
      "display_name": "Python 3"
    },
    "language_info": {
      "name": "python"
    }
  },
  "cells": [
    {
      "cell_type": "code",
      "execution_count": 7,
      "metadata": {
        "id": "Nb2n0JXEEf4C"
      },
      "outputs": [],
      "source": [
        "import numpy as np\n",
        "from scipy import stats"
      ]
    },
    {
      "cell_type": "code",
      "source": [
        "# Null Hypothesis (Ho) = Avg life of Bulb >= 260 days\n",
        "# Alternate Hypothesis (Ha) = Avg life of Bulb < 260 days\n",
        "\n",
        "# find t-scores at x=260; t=(x-μ)/(std/sqrt(n))\n",
        "t=(260-270)/(90/np.sqrt(18))\n",
        "t"
      ],
      "metadata": {
        "colab": {
          "base_uri": "https://localhost:8080/"
        },
        "id": "y42MsURJFLvX",
        "outputId": "c879b175-3b7d-4cc7-985b-0d91e5db0289"
      },
      "execution_count": 12,
      "outputs": [
        {
          "output_type": "execute_result",
          "data": {
            "text/plain": [
              "-0.4714045207910317"
            ]
          },
          "metadata": {},
          "execution_count": 12
        }
      ]
    },
    {
      "cell_type": "code",
      "source": [
        "# Find Probability (p_value) = 1-stats.t.cdf(abs(t_scores),df=n-1)... Using cdf function\n",
        "p_value = stats.t.cdf(t, df = 17)\n",
        "print('Probability that 18 randomly selected bulbs would have an average life of no more than 260 days :', p_value*100,'%')"
      ],
      "metadata": {
        "colab": {
          "base_uri": "https://localhost:8080/"
        },
        "id": "veyvaLn2GbGl",
        "outputId": "0744d896-f5c0-40cd-b10d-d24fce2a9016"
      },
      "execution_count": 18,
      "outputs": [
        {
          "output_type": "stream",
          "name": "stdout",
          "text": [
            "Probability that 18 randomly selected bulbs would have an average life of no more than 260 days : 32.16725356709836 %\n"
          ]
        }
      ]
    }
  ]
}