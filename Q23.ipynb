{
  "nbformat": 4,
  "nbformat_minor": 0,
  "metadata": {
    "colab": {
      "provenance": []
    },
    "kernelspec": {
      "name": "python3",
      "display_name": "Python 3"
    },
    "language_info": {
      "name": "python"
    }
  },
  "cells": [
    {
      "cell_type": "code",
      "execution_count": 2,
      "metadata": {
        "id": "Njq34twuCbdk"
      },
      "outputs": [],
      "source": [
        "import numpy as np\n",
        "from scipy import stats"
      ]
    },
    {
      "cell_type": "code",
      "source": [
        "#T-score for 95% Confidence Interval\n",
        "print('T-score for 95% Confidence Interval =',np.round(stats.t.ppf(0.025,df=24),4))"
      ],
      "metadata": {
        "colab": {
          "base_uri": "https://localhost:8080/"
        },
        "id": "W1sxJj9eCoV5",
        "outputId": "fb7c6a0b-c95c-4f27-88fe-24199b8194ae"
      },
      "execution_count": 6,
      "outputs": [
        {
          "output_type": "stream",
          "name": "stdout",
          "text": [
            "T-score for 95% Confidence Interval = -2.0639\n"
          ]
        }
      ]
    },
    {
      "cell_type": "code",
      "source": [
        "#T-score for 94% Confidence Interval\n",
        "print('T-score for 94% Confidence Interval =',np.round(stats.t.ppf(0.03,df=24),4))"
      ],
      "metadata": {
        "colab": {
          "base_uri": "https://localhost:8080/"
        },
        "id": "SxglzNn5DQAA",
        "outputId": "5740fb85-847e-485e-ecda-2587669af97c"
      },
      "execution_count": 7,
      "outputs": [
        {
          "output_type": "stream",
          "name": "stdout",
          "text": [
            "T-score for 94% Confidence Interval = -1.974\n"
          ]
        }
      ]
    },
    {
      "cell_type": "code",
      "source": [
        "#T-score for 99% Confidence Interval\n",
        "print('T-score for 99% Confidence Interval =',np.round(stats.t.ppf(0.005,df=24),4))"
      ],
      "metadata": {
        "colab": {
          "base_uri": "https://localhost:8080/"
        },
        "id": "Va4yWq5fDYEe",
        "outputId": "a4284a9a-4e49-4294-a9f8-948b902da68d"
      },
      "execution_count": 8,
      "outputs": [
        {
          "output_type": "stream",
          "name": "stdout",
          "text": [
            "T-score for 99% Confidence Interval = -2.7969\n"
          ]
        }
      ]
    }
  ]
}