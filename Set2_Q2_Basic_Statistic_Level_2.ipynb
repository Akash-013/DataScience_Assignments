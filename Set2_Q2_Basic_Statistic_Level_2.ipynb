{
  "nbformat": 4,
  "nbformat_minor": 0,
  "metadata": {
    "colab": {
      "provenance": []
    },
    "kernelspec": {
      "name": "python3",
      "display_name": "Python 3"
    },
    "language_info": {
      "name": "python"
    }
  },
  "cells": [
    {
      "cell_type": "code",
      "execution_count": 1,
      "metadata": {
        "id": "AYK-_1dUkGos"
      },
      "outputs": [],
      "source": [
        "from scipy import stats"
      ]
    },
    {
      "cell_type": "markdown",
      "source": [
        "A.\tMore employees at the processing center are older than 44 than between 38 and 44."
      ],
      "metadata": {
        "id": "608yqc67JMwb"
      }
    },
    {
      "cell_type": "code",
      "source": [
        "# Probability of employees older than 44 yrs of age\n",
        "1-stats.norm.cdf(44,38,6)"
      ],
      "metadata": {
        "colab": {
          "base_uri": "https://localhost:8080/"
        },
        "id": "FVv9LfArJV83",
        "outputId": "c54ad083-58b5-48c1-85cd-083b53141d51"
      },
      "execution_count": 3,
      "outputs": [
        {
          "output_type": "execute_result",
          "data": {
            "text/plain": [
              "0.15865525393145707"
            ]
          },
          "metadata": {},
          "execution_count": 3
        }
      ]
    },
    {
      "cell_type": "code",
      "source": [
        "# Probability of employees between 38 & 44 yrs of age\n",
        "stats.norm.cdf(44,38,6) - stats.norm.cdf(38,38,6)"
      ],
      "metadata": {
        "colab": {
          "base_uri": "https://localhost:8080/"
        },
        "id": "OHKI1JN1JgBe",
        "outputId": "e9a267ba-b011-4538-cfd1-0f3d2c0dddb4"
      },
      "execution_count": 4,
      "outputs": [
        {
          "output_type": "execute_result",
          "data": {
            "text/plain": [
              "0.3413447460685429"
            ]
          },
          "metadata": {},
          "execution_count": 4
        }
      ]
    },
    {
      "cell_type": "code",
      "source": [
        "#Clearly no. of employees older than 44 yrs of age is lesser than no. of employees between 38 & 44yrs of age.\n"
      ],
      "metadata": {
        "id": "tAojFFBcLH2P"
      },
      "execution_count": 11,
      "outputs": []
    },
    {
      "cell_type": "markdown",
      "source": [
        "B. A training program for employees under the age of 30 at the center would be expected to attract about 36 employees."
      ],
      "metadata": {
        "id": "SHVKRUghJ1fC"
      }
    },
    {
      "cell_type": "code",
      "source": [
        "# Probability of employees under 30 yrs of age\n",
        "P = stats.norm.cdf(30,38,6)\n",
        "P"
      ],
      "metadata": {
        "colab": {
          "base_uri": "https://localhost:8080/"
        },
        "id": "3NbSx2JCKASD",
        "outputId": "6f0f8e9b-5672-4950-bee5-17ac321c59cd"
      },
      "execution_count": 7,
      "outputs": [
        {
          "output_type": "execute_result",
          "data": {
            "text/plain": [
              "0.09121121972586788"
            ]
          },
          "metadata": {},
          "execution_count": 7
        }
      ]
    },
    {
      "cell_type": "code",
      "source": [
        "# No. of employees attending training program from 400\n",
        "print(\"No. of employees under the age of 30: \",400*P)"
      ],
      "metadata": {
        "colab": {
          "base_uri": "https://localhost:8080/"
        },
        "id": "35IsI8BYKcEW",
        "outputId": "46f30ffa-48fe-4473-d4be-0603d9b9fa28"
      },
      "execution_count": 8,
      "outputs": [
        {
          "output_type": "stream",
          "name": "stdout",
          "text": [
            "No. of employees under the age of 30:  36.484487890347154\n"
          ]
        }
      ]
    },
    {
      "cell_type": "code",
      "source": [
        "# Which is approximately equal to 36"
      ],
      "metadata": {
        "id": "Yf-ntq6RK90c"
      },
      "execution_count": 9,
      "outputs": []
    }
  ]
}