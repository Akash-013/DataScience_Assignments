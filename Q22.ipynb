{
  "nbformat": 4,
  "nbformat_minor": 0,
  "metadata": {
    "colab": {
      "provenance": []
    },
    "kernelspec": {
      "name": "python3",
      "display_name": "Python 3"
    },
    "language_info": {
      "name": "python"
    }
  },
  "cells": [
    {
      "cell_type": "code",
      "execution_count": 3,
      "metadata": {
        "id": "xik1v-Id_GBm"
      },
      "outputs": [],
      "source": [
        "import numpy as np\n",
        "from scipy import stats"
      ]
    },
    {
      "cell_type": "code",
      "source": [
        "#Z-score for 90% Confidence Interval\n",
        "print('Z-score for 90% Confidence Interval =', np.round(stats.norm.ppf(0.05),4))"
      ],
      "metadata": {
        "colab": {
          "base_uri": "https://localhost:8080/"
        },
        "id": "dU7FZUKWA8rF",
        "outputId": "e1b74451-4a3c-4f4b-f88e-29bfeecef3d7"
      },
      "execution_count": 19,
      "outputs": [
        {
          "output_type": "stream",
          "name": "stdout",
          "text": [
            "Z-score for 90% Confidence Interval = -1.6449\n"
          ]
        }
      ]
    },
    {
      "cell_type": "code",
      "source": [
        "#Z-score for 94% Confidence Interval\n",
        "print('Z-score for 94% Confidence Interval =', np.round(stats.norm.ppf(.03),4))"
      ],
      "metadata": {
        "colab": {
          "base_uri": "https://localhost:8080/"
        },
        "id": "ToquawmJBJOE",
        "outputId": "39be41bf-95e3-4650-d2be-9013978b207b"
      },
      "execution_count": 20,
      "outputs": [
        {
          "output_type": "stream",
          "name": "stdout",
          "text": [
            "Z-score for 94% Confidence Interval = -1.8808\n"
          ]
        }
      ]
    },
    {
      "cell_type": "code",
      "source": [
        "#Z-score for 60% Confidence Interval\n",
        "print('Z-score for 60% Confidence Interval =', np.round(stats.norm.ppf(.2),4))"
      ],
      "metadata": {
        "colab": {
          "base_uri": "https://localhost:8080/"
        },
        "id": "uTfsnAvlBKlA",
        "outputId": "c83a623f-63bb-403d-c237-a23f28c00d86"
      },
      "execution_count": 21,
      "outputs": [
        {
          "output_type": "stream",
          "name": "stdout",
          "text": [
            "Z-score for 60% Confidence Interval = -0.8416\n"
          ]
        }
      ]
    }
  ]
}