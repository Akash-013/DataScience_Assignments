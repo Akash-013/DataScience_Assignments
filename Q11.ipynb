{
  "nbformat": 4,
  "nbformat_minor": 0,
  "metadata": {
    "colab": {
      "provenance": []
    },
    "kernelspec": {
      "name": "python3",
      "display_name": "Python 3"
    },
    "language_info": {
      "name": "python"
    }
  },
  "cells": [
    {
      "cell_type": "code",
      "execution_count": 1,
      "metadata": {
        "id": "4DOqSagEsHBB"
      },
      "outputs": [],
      "source": [
        "import numpy as np\n",
        "from scipy import stats"
      ]
    },
    {
      "cell_type": "code",
      "source": [
        "# CI for 94%\n",
        "P = stats.t.interval(alpha = 0.94, df=1999, loc=200, scale=30/np.sqrt(2000))\n",
        "np.round(P, 0)\n",
        "print('CI for 94%:',P)"
      ],
      "metadata": {
        "colab": {
          "base_uri": "https://localhost:8080/"
        },
        "id": "BfmEO_W0se24",
        "outputId": "c84bd5a5-ae09-4aae-ed4d-c09f73f20318"
      },
      "execution_count": 12,
      "outputs": [
        {
          "output_type": "stream",
          "name": "stdout",
          "text": [
            "CI for 94%: (198.7376089443071, 201.2623910556929)\n"
          ]
        }
      ]
    },
    {
      "cell_type": "code",
      "source": [
        "# CI for 98%\n",
        "P = stats.t.interval(alpha = 0.98, df=1999, loc=200, scale=30/np.sqrt(2000))\n",
        "np.round(P, 0)\n",
        "print('CI for 98%:',P)"
      ],
      "metadata": {
        "colab": {
          "base_uri": "https://localhost:8080/"
        },
        "id": "vCHDPqc_szqG",
        "outputId": "5b9c888a-923d-435e-f5fd-fa4b97a167a1"
      },
      "execution_count": 15,
      "outputs": [
        {
          "output_type": "stream",
          "name": "stdout",
          "text": [
            "CI for 98%: (198.4381860483216, 201.5618139516784)\n"
          ]
        }
      ]
    },
    {
      "cell_type": "code",
      "source": [
        "# CI for 96%\n",
        "P = stats.t.interval(alpha = 0.96, df=1999, loc=200, scale=30/np.sqrt(2000))\n",
        "np.round(P, 0)\n",
        "print('CI for 96%:',P)"
      ],
      "metadata": {
        "colab": {
          "base_uri": "https://localhost:8080/"
        },
        "id": "OGhz7OLHs57l",
        "outputId": "98c23290-282a-4f58-a5fb-3f99fdcfe076"
      },
      "execution_count": 16,
      "outputs": [
        {
          "output_type": "stream",
          "name": "stdout",
          "text": [
            "CI for 96%: (198.6214037429732, 201.3785962570268)\n"
          ]
        }
      ]
    }
  ]
}